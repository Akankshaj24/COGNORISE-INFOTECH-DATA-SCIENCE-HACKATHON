{
 "cells": [
  {
   "cell_type": "code",
   "execution_count": 1,
   "id": "0a7487f8-5413-4933-831f-4e7fcfd733b1",
   "metadata": {},
   "outputs": [],
   "source": [
    "import warnings\n",
    "warnings.filterwarnings('ignore')"
   ]
  },
  {
   "cell_type": "code",
   "execution_count": 2,
   "id": "51297c3f-c4a6-4783-a8c9-d0dac013adf5",
   "metadata": {},
   "outputs": [],
   "source": [
    "import pandas as pd"
   ]
  },
  {
   "cell_type": "code",
   "execution_count": 3,
   "id": "13855032-5d63-468e-a3be-089a1085cb98",
   "metadata": {},
   "outputs": [],
   "source": [
    "df = pd.read_csv(\"C&T train dataset.csv\")"
   ]
  },
  {
   "cell_type": "code",
   "execution_count": 4,
   "id": "51d689ef-6f3d-438e-8204-f9a5653e4720",
   "metadata": {},
   "outputs": [
    {
     "data": {
      "text/html": [
       "<div>\n",
       "<style scoped>\n",
       "    .dataframe tbody tr th:only-of-type {\n",
       "        vertical-align: middle;\n",
       "    }\n",
       "\n",
       "    .dataframe tbody tr th {\n",
       "        vertical-align: top;\n",
       "    }\n",
       "\n",
       "    .dataframe thead th {\n",
       "        text-align: right;\n",
       "    }\n",
       "</style>\n",
       "<table border=\"1\" class=\"dataframe\">\n",
       "  <thead>\n",
       "    <tr style=\"text-align: right;\">\n",
       "      <th></th>\n",
       "      <th>sno</th>\n",
       "      <th>acc_info</th>\n",
       "      <th>duration_month</th>\n",
       "      <th>credit_history</th>\n",
       "      <th>purpose</th>\n",
       "      <th>savings_acc</th>\n",
       "      <th>employment_st</th>\n",
       "      <th>poi</th>\n",
       "      <th>personal_status</th>\n",
       "      <th>gurantors</th>\n",
       "      <th>...</th>\n",
       "      <th>property_type</th>\n",
       "      <th>age</th>\n",
       "      <th>installment_type</th>\n",
       "      <th>housing_type</th>\n",
       "      <th>credits_no</th>\n",
       "      <th>job_type</th>\n",
       "      <th>liables</th>\n",
       "      <th>telephone</th>\n",
       "      <th>foreigner</th>\n",
       "      <th>Group_no</th>\n",
       "    </tr>\n",
       "  </thead>\n",
       "  <tbody>\n",
       "    <tr>\n",
       "      <th>0</th>\n",
       "      <td>1</td>\n",
       "      <td>A11</td>\n",
       "      <td>6</td>\n",
       "      <td>A34</td>\n",
       "      <td>A43</td>\n",
       "      <td>A65</td>\n",
       "      <td>A75</td>\n",
       "      <td>4.0</td>\n",
       "      <td>A93</td>\n",
       "      <td>A101</td>\n",
       "      <td>...</td>\n",
       "      <td>A121</td>\n",
       "      <td>67.0</td>\n",
       "      <td>A143</td>\n",
       "      <td>A152</td>\n",
       "      <td>2</td>\n",
       "      <td>A173</td>\n",
       "      <td>1</td>\n",
       "      <td>A192</td>\n",
       "      <td>A201</td>\n",
       "      <td>3</td>\n",
       "    </tr>\n",
       "    <tr>\n",
       "      <th>1</th>\n",
       "      <td>2</td>\n",
       "      <td>A12</td>\n",
       "      <td>48</td>\n",
       "      <td>A32</td>\n",
       "      <td>A43</td>\n",
       "      <td>A61</td>\n",
       "      <td>A73</td>\n",
       "      <td>2.0</td>\n",
       "      <td>A92</td>\n",
       "      <td>A101</td>\n",
       "      <td>...</td>\n",
       "      <td>A121</td>\n",
       "      <td>22.0</td>\n",
       "      <td>A143</td>\n",
       "      <td>A152</td>\n",
       "      <td>1</td>\n",
       "      <td>A173</td>\n",
       "      <td>1</td>\n",
       "      <td>A191</td>\n",
       "      <td>A201</td>\n",
       "      <td>1</td>\n",
       "    </tr>\n",
       "    <tr>\n",
       "      <th>2</th>\n",
       "      <td>3</td>\n",
       "      <td>A14</td>\n",
       "      <td>12</td>\n",
       "      <td>A34</td>\n",
       "      <td>A46</td>\n",
       "      <td>A61</td>\n",
       "      <td>A74</td>\n",
       "      <td>2.0</td>\n",
       "      <td>A93</td>\n",
       "      <td>A101</td>\n",
       "      <td>...</td>\n",
       "      <td>A121</td>\n",
       "      <td>49.0</td>\n",
       "      <td>A143</td>\n",
       "      <td>A152</td>\n",
       "      <td>1</td>\n",
       "      <td>A172</td>\n",
       "      <td>2</td>\n",
       "      <td>A191</td>\n",
       "      <td>A201</td>\n",
       "      <td>2</td>\n",
       "    </tr>\n",
       "    <tr>\n",
       "      <th>3</th>\n",
       "      <td>4</td>\n",
       "      <td>A11</td>\n",
       "      <td>42</td>\n",
       "      <td>A32</td>\n",
       "      <td>A42</td>\n",
       "      <td>A61</td>\n",
       "      <td>A74</td>\n",
       "      <td>2.0</td>\n",
       "      <td>A93</td>\n",
       "      <td>A103</td>\n",
       "      <td>...</td>\n",
       "      <td>A122</td>\n",
       "      <td>45.0</td>\n",
       "      <td>A143</td>\n",
       "      <td>A153</td>\n",
       "      <td>1</td>\n",
       "      <td>A173</td>\n",
       "      <td>2</td>\n",
       "      <td>A191</td>\n",
       "      <td>A201</td>\n",
       "      <td>1</td>\n",
       "    </tr>\n",
       "    <tr>\n",
       "      <th>4</th>\n",
       "      <td>5</td>\n",
       "      <td>A11</td>\n",
       "      <td>24</td>\n",
       "      <td>A33</td>\n",
       "      <td>A40</td>\n",
       "      <td>A61</td>\n",
       "      <td>A73</td>\n",
       "      <td>3.0</td>\n",
       "      <td>A93</td>\n",
       "      <td>A101</td>\n",
       "      <td>...</td>\n",
       "      <td>A124</td>\n",
       "      <td>53.0</td>\n",
       "      <td>A143</td>\n",
       "      <td>A153</td>\n",
       "      <td>2</td>\n",
       "      <td>A173</td>\n",
       "      <td>2</td>\n",
       "      <td>A191</td>\n",
       "      <td>A201</td>\n",
       "      <td>1</td>\n",
       "    </tr>\n",
       "  </tbody>\n",
       "</table>\n",
       "<p>5 rows × 21 columns</p>\n",
       "</div>"
      ],
      "text/plain": [
       "   sno acc_info  duration_month credit_history purpose savings_acc  \\\n",
       "0    1      A11               6            A34     A43         A65   \n",
       "1    2      A12              48            A32     A43         A61   \n",
       "2    3      A14              12            A34     A46         A61   \n",
       "3    4      A11              42            A32     A42         A61   \n",
       "4    5      A11              24            A33     A40         A61   \n",
       "\n",
       "  employment_st  poi personal_status gurantors  ...  property_type   age  \\\n",
       "0           A75  4.0             A93      A101  ...           A121  67.0   \n",
       "1           A73  2.0             A92      A101  ...           A121  22.0   \n",
       "2           A74  2.0             A93      A101  ...           A121  49.0   \n",
       "3           A74  2.0             A93      A103  ...           A122  45.0   \n",
       "4           A73  3.0             A93      A101  ...           A124  53.0   \n",
       "\n",
       "   installment_type housing_type credits_no  job_type liables  telephone  \\\n",
       "0              A143         A152          2      A173       1       A192   \n",
       "1              A143         A152          1      A173       1       A191   \n",
       "2              A143         A152          1      A172       2       A191   \n",
       "3              A143         A153          1      A173       2       A191   \n",
       "4              A143         A153          2      A173       2       A191   \n",
       "\n",
       "  foreigner Group_no  \n",
       "0      A201        3  \n",
       "1      A201        1  \n",
       "2      A201        2  \n",
       "3      A201        1  \n",
       "4      A201        1  \n",
       "\n",
       "[5 rows x 21 columns]"
      ]
     },
     "execution_count": 4,
     "metadata": {},
     "output_type": "execute_result"
    }
   ],
   "source": [
    "df.head()"
   ]
  },
  {
   "cell_type": "code",
   "execution_count": 5,
   "id": "d989c0ad-b56b-40af-a11d-752e05fa2a60",
   "metadata": {},
   "outputs": [
    {
     "data": {
      "text/plain": [
       "Group_no\n",
       "2    353\n",
       "3    254\n",
       "1    193\n",
       "Name: count, dtype: int64"
      ]
     },
     "execution_count": 5,
     "metadata": {},
     "output_type": "execute_result"
    }
   ],
   "source": [
    "df['Group_no'].value_counts()"
   ]
  },
  {
   "cell_type": "code",
   "execution_count": 5,
   "id": "9db70c0c-9250-4e36-8c8b-d267652b992a",
   "metadata": {},
   "outputs": [
    {
     "name": "stdout",
     "output_type": "stream",
     "text": [
      "<class 'pandas.core.frame.DataFrame'>\n",
      "RangeIndex: 800 entries, 0 to 799\n",
      "Data columns (total 21 columns):\n",
      " #   Column            Non-Null Count  Dtype  \n",
      "---  ------            --------------  -----  \n",
      " 0   sno               800 non-null    int64  \n",
      " 1   acc_info          800 non-null    object \n",
      " 2   duration_month    800 non-null    int64  \n",
      " 3   credit_history    800 non-null    object \n",
      " 4   purpose           800 non-null    object \n",
      " 5   savings_acc       800 non-null    object \n",
      " 6   employment_st     792 non-null    object \n",
      " 7   poi               788 non-null    float64\n",
      " 8   personal_status   800 non-null    object \n",
      " 9   gurantors         792 non-null    object \n",
      " 10  resident_since    800 non-null    int64  \n",
      " 11  property_type     800 non-null    object \n",
      " 12  age               796 non-null    float64\n",
      " 13  installment_type  800 non-null    object \n",
      " 14  housing_type      793 non-null    object \n",
      " 15  credits_no        800 non-null    int64  \n",
      " 16  job_type          800 non-null    object \n",
      " 17  liables           800 non-null    int64  \n",
      " 18  telephone         800 non-null    object \n",
      " 19  foreigner         800 non-null    object \n",
      " 20  Group_no          800 non-null    int64  \n",
      "dtypes: float64(2), int64(6), object(13)\n",
      "memory usage: 131.4+ KB\n"
     ]
    }
   ],
   "source": [
    "df.info()"
   ]
  },
  {
   "cell_type": "code",
   "execution_count": 6,
   "id": "2ca780b4-6eaa-45b4-9889-b05c4bc23ea9",
   "metadata": {},
   "outputs": [
    {
     "data": {
      "text/plain": [
       "sno                  0\n",
       "acc_info             0\n",
       "duration_month       0\n",
       "credit_history       0\n",
       "purpose              0\n",
       "savings_acc          0\n",
       "employment_st        8\n",
       "poi                 12\n",
       "personal_status      0\n",
       "gurantors            8\n",
       "resident_since       0\n",
       "property_type        0\n",
       "age                  4\n",
       "installment_type     0\n",
       "housing_type         7\n",
       "credits_no           0\n",
       "job_type             0\n",
       "liables              0\n",
       "telephone            0\n",
       "foreigner            0\n",
       "Group_no             0\n",
       "dtype: int64"
      ]
     },
     "execution_count": 6,
     "metadata": {},
     "output_type": "execute_result"
    }
   ],
   "source": [
    "df.isnull().sum()"
   ]
  },
  {
   "cell_type": "code",
   "execution_count": 7,
   "id": "6fb31966-af25-4404-b05a-763ef2aece99",
   "metadata": {},
   "outputs": [
    {
     "data": {
      "text/plain": [
       "Index(['employment_st', 'poi', 'gurantors', 'age', 'housing_type'], dtype='object')"
      ]
     },
     "execution_count": 7,
     "metadata": {},
     "output_type": "execute_result"
    }
   ],
   "source": [
    "null_cols = df.columns[df.isnull().any()]\n",
    "\n",
    "null_cols"
   ]
  },
  {
   "cell_type": "code",
   "execution_count": 8,
   "id": "1e63fa41-313c-407c-8307-c7d36b3c5c5c",
   "metadata": {},
   "outputs": [
    {
     "name": "stdout",
     "output_type": "stream",
     "text": [
      "Column 'employment_st': object\n",
      "Column 'poi': float64\n",
      "Column 'gurantors': object\n",
      "Column 'age': float64\n",
      "Column 'housing_type': object\n"
     ]
    }
   ],
   "source": [
    "for col in null_cols:\n",
    "  # Get data type for each column and print it\n",
    "  data_type = df.dtypes[col]\n",
    "  print(f\"Column '{col}': {data_type}\")"
   ]
  },
  {
   "cell_type": "code",
   "execution_count": 9,
   "id": "cd409568-ed28-47e6-b321-1e2be6cde987",
   "metadata": {},
   "outputs": [
    {
     "name": "stdout",
     "output_type": "stream",
     "text": [
      "employment_st\n",
      "A73    267\n",
      "A75    203\n",
      "A74    141\n",
      "A72    133\n",
      "A71     48\n",
      "Name: count, dtype: int64\n",
      "poi\n",
      "4.0    371\n",
      "2.0    184\n",
      "3.0    120\n",
      "1.0    113\n",
      "Name: count, dtype: int64\n",
      "gurantors\n",
      "A101    720\n",
      "A103     42\n",
      "A102     30\n",
      "Name: count, dtype: int64\n",
      "age\n",
      "27.0    45\n",
      "26.0    41\n",
      "23.0    40\n",
      "25.0    35\n",
      "36.0    33\n",
      "24.0    33\n",
      "31.0    32\n",
      "28.0    31\n",
      "32.0    30\n",
      "30.0    29\n",
      "35.0    29\n",
      "34.0    27\n",
      "29.0    27\n",
      "37.0    25\n",
      "33.0    24\n",
      "22.0    23\n",
      "39.0    19\n",
      "38.0    19\n",
      "40.0    17\n",
      "41.0    16\n",
      "44.0    15\n",
      "42.0    14\n",
      "20.0    12\n",
      "21.0    12\n",
      "45.0    12\n",
      "49.0    12\n",
      "47.0    12\n",
      "50.0    10\n",
      "46.0    10\n",
      "43.0     9\n",
      "52.0     9\n",
      "51.0     8\n",
      "48.0     8\n",
      "63.0     7\n",
      "61.0     7\n",
      "57.0     6\n",
      "54.0     6\n",
      "60.0     6\n",
      "53.0     6\n",
      "55.0     6\n",
      "66.0     5\n",
      "74.0     4\n",
      "58.0     4\n",
      "64.0     3\n",
      "67.0     3\n",
      "65.0     3\n",
      "56.0     3\n",
      "75.0     2\n",
      "19.0     2\n",
      "59.0     2\n",
      "68.0     1\n",
      "70.0     1\n",
      "62.0     1\n",
      "Name: count, dtype: int64\n",
      "housing_type\n",
      "A152    563\n",
      "A151    140\n",
      "A153     90\n",
      "Name: count, dtype: int64\n"
     ]
    }
   ],
   "source": [
    "for col in null_cols:\n",
    "  # Get data type for each column and print it\n",
    "    print(df[col].value_counts())"
   ]
  },
  {
   "cell_type": "code",
   "execution_count": 4,
   "id": "61336989-6246-4bba-b398-48bd56bbc571",
   "metadata": {},
   "outputs": [
    {
     "data": {
      "text/plain": [
       "35"
      ]
     },
     "execution_count": 4,
     "metadata": {},
     "output_type": "execute_result"
    }
   ],
   "source": [
    "round(df['age'].mean())"
   ]
  },
  {
   "cell_type": "code",
   "execution_count": 11,
   "id": "699048e2-3b66-4680-86ac-49bcb4d67070",
   "metadata": {},
   "outputs": [],
   "source": [
    "df['age'] = df['age'].fillna(36)"
   ]
  },
  {
   "cell_type": "code",
   "execution_count": 12,
   "id": "51278f36-f361-4afe-aa6b-60df7caf5981",
   "metadata": {},
   "outputs": [],
   "source": [
    "null_cols = ['employment_st', 'poi', 'gurantors', 'housing_type']"
   ]
  },
  {
   "cell_type": "code",
   "execution_count": 13,
   "id": "236409ec-8645-47ba-838d-2dba4a449f21",
   "metadata": {},
   "outputs": [],
   "source": [
    "for col in null_cols:\n",
    "    mode_value = df[col].mode().iloc[0]\n",
    "\n",
    "    # Replace null values with the mode value\n",
    "    df[col] = df[col].fillna(mode_value)"
   ]
  },
  {
   "cell_type": "code",
   "execution_count": 14,
   "id": "cdea578a-426e-4106-8cb7-0a77adafeb37",
   "metadata": {},
   "outputs": [
    {
     "data": {
      "text/plain": [
       "sno                 0\n",
       "acc_info            0\n",
       "duration_month      0\n",
       "credit_history      0\n",
       "purpose             0\n",
       "savings_acc         0\n",
       "employment_st       0\n",
       "poi                 0\n",
       "personal_status     0\n",
       "gurantors           0\n",
       "resident_since      0\n",
       "property_type       0\n",
       "age                 0\n",
       "installment_type    0\n",
       "housing_type        0\n",
       "credits_no          0\n",
       "job_type            0\n",
       "liables             0\n",
       "telephone           0\n",
       "foreigner           0\n",
       "Group_no            0\n",
       "dtype: int64"
      ]
     },
     "execution_count": 14,
     "metadata": {},
     "output_type": "execute_result"
    }
   ],
   "source": [
    "df.isnull().sum()"
   ]
  },
  {
   "cell_type": "code",
   "execution_count": 15,
   "id": "5f9a2180-1d2e-4221-b474-517f1a81f2b2",
   "metadata": {},
   "outputs": [
    {
     "data": {
      "text/plain": [
       "Index(['acc_info', 'credit_history', 'purpose', 'savings_acc', 'employment_st',\n",
       "       'personal_status', 'gurantors', 'property_type', 'installment_type',\n",
       "       'housing_type', 'job_type', 'telephone', 'foreigner'],\n",
       "      dtype='object')"
      ]
     },
     "execution_count": 15,
     "metadata": {},
     "output_type": "execute_result"
    }
   ],
   "source": [
    "object_cols = df.select_dtypes(include='object').columns\n",
    "\n",
    "object_cols"
   ]
  },
  {
   "cell_type": "code",
   "execution_count": 16,
   "id": "9aefb4e9-ae14-4fe9-a28d-aad1c44bb1cd",
   "metadata": {},
   "outputs": [],
   "source": [
    "def split_and_convert(df, object_cols):\n",
    "  # Select the column to process\n",
    "  for column_name in object_cols:\n",
    "      df[column_name] = df[column_name].str[1:].astype(int)\n",
    "\n",
    "  return df\n",
    "\n",
    "df = split_and_convert(df.copy(), object_cols)"
   ]
  },
  {
   "cell_type": "code",
   "execution_count": 17,
   "id": "9b262504-0602-4407-b602-aaa62be791a1",
   "metadata": {},
   "outputs": [
    {
     "name": "stdout",
     "output_type": "stream",
     "text": [
      "<class 'pandas.core.frame.DataFrame'>\n",
      "RangeIndex: 800 entries, 0 to 799\n",
      "Data columns (total 21 columns):\n",
      " #   Column            Non-Null Count  Dtype  \n",
      "---  ------            --------------  -----  \n",
      " 0   sno               800 non-null    int64  \n",
      " 1   acc_info          800 non-null    int32  \n",
      " 2   duration_month    800 non-null    int64  \n",
      " 3   credit_history    800 non-null    int32  \n",
      " 4   purpose           800 non-null    int32  \n",
      " 5   savings_acc       800 non-null    int32  \n",
      " 6   employment_st     800 non-null    int32  \n",
      " 7   poi               800 non-null    float64\n",
      " 8   personal_status   800 non-null    int32  \n",
      " 9   gurantors         800 non-null    int32  \n",
      " 10  resident_since    800 non-null    int64  \n",
      " 11  property_type     800 non-null    int32  \n",
      " 12  age               800 non-null    float64\n",
      " 13  installment_type  800 non-null    int32  \n",
      " 14  housing_type      800 non-null    int32  \n",
      " 15  credits_no        800 non-null    int64  \n",
      " 16  job_type          800 non-null    int32  \n",
      " 17  liables           800 non-null    int64  \n",
      " 18  telephone         800 non-null    int32  \n",
      " 19  foreigner         800 non-null    int32  \n",
      " 20  Group_no          800 non-null    int64  \n",
      "dtypes: float64(2), int32(13), int64(6)\n",
      "memory usage: 90.8 KB\n"
     ]
    }
   ],
   "source": [
    "df.info()"
   ]
  },
  {
   "cell_type": "code",
   "execution_count": 18,
   "id": "cfe5996d-86fa-4167-94c4-086152f167fc",
   "metadata": {},
   "outputs": [
    {
     "data": {
      "text/plain": [
       "(800, 21)"
      ]
     },
     "execution_count": 18,
     "metadata": {},
     "output_type": "execute_result"
    }
   ],
   "source": [
    "df.shape"
   ]
  },
  {
   "cell_type": "code",
   "execution_count": 19,
   "id": "90cf94f0-310d-4925-a17a-6de2f8f67b8b",
   "metadata": {},
   "outputs": [],
   "source": [
    "df = df.drop(\"sno\", axis=1) "
   ]
  },
  {
   "cell_type": "code",
   "execution_count": 20,
   "id": "ced55f16-dd2c-4f04-b47b-1e5c714ac01a",
   "metadata": {},
   "outputs": [
    {
     "data": {
      "text/plain": [
       "(800, 20)"
      ]
     },
     "execution_count": 20,
     "metadata": {},
     "output_type": "execute_result"
    }
   ],
   "source": [
    "df.shape"
   ]
  },
  {
   "cell_type": "code",
   "execution_count": 21,
   "id": "e1bae941-1bc1-4cb4-a314-1caa666efcb8",
   "metadata": {},
   "outputs": [
    {
     "data": {
      "text/plain": [
       "Group_no\n",
       "2    353\n",
       "3    254\n",
       "1    193\n",
       "Name: count, dtype: int64"
      ]
     },
     "execution_count": 21,
     "metadata": {},
     "output_type": "execute_result"
    }
   ],
   "source": [
    "df[\"Group_no\"].value_counts()"
   ]
  },
  {
   "cell_type": "code",
   "execution_count": 22,
   "id": "e26d0ab3-b90f-4909-9cb8-6ac49310be8d",
   "metadata": {},
   "outputs": [],
   "source": [
    "from sklearn.model_selection import train_test_split\n",
    "X_train, X_test, y_train, y_test = train_test_split(df.drop(\"Group_no\", axis=1), df[\"Group_no\"], test_size=0.2)"
   ]
  },
  {
   "cell_type": "code",
   "execution_count": 23,
   "id": "71a6e5bf-944b-4144-96ef-e71e07b4e8d0",
   "metadata": {},
   "outputs": [
    {
     "data": {
      "text/html": [
       "<style>#sk-container-id-1 {color: black;background-color: white;}#sk-container-id-1 pre{padding: 0;}#sk-container-id-1 div.sk-toggleable {background-color: white;}#sk-container-id-1 label.sk-toggleable__label {cursor: pointer;display: block;width: 100%;margin-bottom: 0;padding: 0.3em;box-sizing: border-box;text-align: center;}#sk-container-id-1 label.sk-toggleable__label-arrow:before {content: \"▸\";float: left;margin-right: 0.25em;color: #696969;}#sk-container-id-1 label.sk-toggleable__label-arrow:hover:before {color: black;}#sk-container-id-1 div.sk-estimator:hover label.sk-toggleable__label-arrow:before {color: black;}#sk-container-id-1 div.sk-toggleable__content {max-height: 0;max-width: 0;overflow: hidden;text-align: left;background-color: #f0f8ff;}#sk-container-id-1 div.sk-toggleable__content pre {margin: 0.2em;color: black;border-radius: 0.25em;background-color: #f0f8ff;}#sk-container-id-1 input.sk-toggleable__control:checked~div.sk-toggleable__content {max-height: 200px;max-width: 100%;overflow: auto;}#sk-container-id-1 input.sk-toggleable__control:checked~label.sk-toggleable__label-arrow:before {content: \"▾\";}#sk-container-id-1 div.sk-estimator input.sk-toggleable__control:checked~label.sk-toggleable__label {background-color: #d4ebff;}#sk-container-id-1 div.sk-label input.sk-toggleable__control:checked~label.sk-toggleable__label {background-color: #d4ebff;}#sk-container-id-1 input.sk-hidden--visually {border: 0;clip: rect(1px 1px 1px 1px);clip: rect(1px, 1px, 1px, 1px);height: 1px;margin: -1px;overflow: hidden;padding: 0;position: absolute;width: 1px;}#sk-container-id-1 div.sk-estimator {font-family: monospace;background-color: #f0f8ff;border: 1px dotted black;border-radius: 0.25em;box-sizing: border-box;margin-bottom: 0.5em;}#sk-container-id-1 div.sk-estimator:hover {background-color: #d4ebff;}#sk-container-id-1 div.sk-parallel-item::after {content: \"\";width: 100%;border-bottom: 1px solid gray;flex-grow: 1;}#sk-container-id-1 div.sk-label:hover label.sk-toggleable__label {background-color: #d4ebff;}#sk-container-id-1 div.sk-serial::before {content: \"\";position: absolute;border-left: 1px solid gray;box-sizing: border-box;top: 0;bottom: 0;left: 50%;z-index: 0;}#sk-container-id-1 div.sk-serial {display: flex;flex-direction: column;align-items: center;background-color: white;padding-right: 0.2em;padding-left: 0.2em;position: relative;}#sk-container-id-1 div.sk-item {position: relative;z-index: 1;}#sk-container-id-1 div.sk-parallel {display: flex;align-items: stretch;justify-content: center;background-color: white;position: relative;}#sk-container-id-1 div.sk-item::before, #sk-container-id-1 div.sk-parallel-item::before {content: \"\";position: absolute;border-left: 1px solid gray;box-sizing: border-box;top: 0;bottom: 0;left: 50%;z-index: -1;}#sk-container-id-1 div.sk-parallel-item {display: flex;flex-direction: column;z-index: 1;position: relative;background-color: white;}#sk-container-id-1 div.sk-parallel-item:first-child::after {align-self: flex-end;width: 50%;}#sk-container-id-1 div.sk-parallel-item:last-child::after {align-self: flex-start;width: 50%;}#sk-container-id-1 div.sk-parallel-item:only-child::after {width: 0;}#sk-container-id-1 div.sk-dashed-wrapped {border: 1px dashed gray;margin: 0 0.4em 0.5em 0.4em;box-sizing: border-box;padding-bottom: 0.4em;background-color: white;}#sk-container-id-1 div.sk-label label {font-family: monospace;font-weight: bold;display: inline-block;line-height: 1.2em;}#sk-container-id-1 div.sk-label-container {text-align: center;}#sk-container-id-1 div.sk-container {/* jupyter's `normalize.less` sets `[hidden] { display: none; }` but bootstrap.min.css set `[hidden] { display: none !important; }` so we also need the `!important` here to be able to override the default hidden behavior on the sphinx rendered scikit-learn.org. See: https://github.com/scikit-learn/scikit-learn/issues/21755 */display: inline-block !important;position: relative;}#sk-container-id-1 div.sk-text-repr-fallback {display: none;}</style><div id=\"sk-container-id-1\" class=\"sk-top-container\"><div class=\"sk-text-repr-fallback\"><pre>LogisticRegression(multi_class=&#x27;multinomial&#x27;)</pre><b>In a Jupyter environment, please rerun this cell to show the HTML representation or trust the notebook. <br />On GitHub, the HTML representation is unable to render, please try loading this page with nbviewer.org.</b></div><div class=\"sk-container\" hidden><div class=\"sk-item\"><div class=\"sk-estimator sk-toggleable\"><input class=\"sk-toggleable__control sk-hidden--visually\" id=\"sk-estimator-id-1\" type=\"checkbox\" checked><label for=\"sk-estimator-id-1\" class=\"sk-toggleable__label sk-toggleable__label-arrow\">LogisticRegression</label><div class=\"sk-toggleable__content\"><pre>LogisticRegression(multi_class=&#x27;multinomial&#x27;)</pre></div></div></div></div></div>"
      ],
      "text/plain": [
       "LogisticRegression(multi_class='multinomial')"
      ]
     },
     "execution_count": 23,
     "metadata": {},
     "output_type": "execute_result"
    }
   ],
   "source": [
    "from sklearn.linear_model import LogisticRegression\n",
    "model = LogisticRegression(multi_class=\"multinomial\", solver=\"lbfgs\")\n",
    "model.fit(X_train, y_train)"
   ]
  },
  {
   "cell_type": "code",
   "execution_count": 24,
   "id": "0cb83fc7-271f-473d-8460-c2ef9696dd94",
   "metadata": {},
   "outputs": [
    {
     "name": "stdout",
     "output_type": "stream",
     "text": [
      "Accuracy: 0.60625\n"
     ]
    }
   ],
   "source": [
    "from sklearn.metrics import accuracy_score\n",
    "y_pred = model.predict(X_test)\n",
    "accuracy = accuracy_score(y_test, y_pred)\n",
    "print(\"Accuracy:\", accuracy)"
   ]
  },
  {
   "cell_type": "code",
   "execution_count": 25,
   "id": "7e64103b-2c7e-4a05-b86b-da5952c8270c",
   "metadata": {},
   "outputs": [
    {
     "name": "stdout",
     "output_type": "stream",
     "text": [
      "Accuracy: 0.5375\n"
     ]
    }
   ],
   "source": [
    "from sklearn.neighbors import KNeighborsClassifier\n",
    "\n",
    "# Create a KNN classifier with k=5 neighbors\n",
    "knn = KNeighborsClassifier(n_neighbors=7)\n",
    "\n",
    "# Train the model on your training data (X_train, y_train)\n",
    "knn.fit(X_train, y_train)\n",
    "\n",
    "# Make predictions on the testing set (X_test)\n",
    "y_pred = knn.predict(X_test)\n",
    "\n",
    "accuracy = accuracy_score(y_test, y_pred)\n",
    "print(\"Accuracy:\", accuracy)"
   ]
  },
  {
   "cell_type": "code",
   "execution_count": 26,
   "id": "1c587f6d-8f91-4eb4-b0e4-e60316fd90bf",
   "metadata": {},
   "outputs": [
    {
     "name": "stdout",
     "output_type": "stream",
     "text": [
      "Accuracy: 0.66875\n"
     ]
    }
   ],
   "source": [
    "from sklearn.svm import SVC\n",
    "\n",
    "# Create an SVC classifier with a linear kernel\n",
    "svm = SVC(kernel='linear')\n",
    "\n",
    "# Train the model on your training data (X_train, y_train)\n",
    "svm.fit(X_train, y_train)\n",
    "\n",
    "# Make predictions on the testing set (X_test)\n",
    "y_pred = svm.predict(X_test)\n",
    "\n",
    "accuracy = accuracy_score(y_test, y_pred)\n",
    "print(\"Accuracy:\", accuracy)"
   ]
  },
  {
   "cell_type": "code",
   "execution_count": 27,
   "id": "ba8da8d8-b8ad-438b-b29c-94cabfb7d31f",
   "metadata": {},
   "outputs": [
    {
     "name": "stdout",
     "output_type": "stream",
     "text": [
      "Accuracy: 0.5625\n"
     ]
    }
   ],
   "source": [
    "from sklearn.tree import DecisionTreeClassifier\n",
    "\n",
    "# Create a DecisionTreeClassifier with maximum depth of 3\n",
    "dtree = DecisionTreeClassifier(max_depth=3)\n",
    "\n",
    "# Train the model on your training data (X_train, y_train)\n",
    "dtree.fit(X_train, y_train)\n",
    "\n",
    "# Make predictions on the testing set (X_test)\n",
    "y_pred = dtree.predict(X_test)\n",
    "\n",
    "accuracy = accuracy_score(y_test, y_pred)\n",
    "print(\"Accuracy:\", accuracy)"
   ]
  },
  {
   "cell_type": "code",
   "execution_count": 28,
   "id": "1c570187-d95d-4f23-bfea-02f3d18a218c",
   "metadata": {},
   "outputs": [
    {
     "name": "stdout",
     "output_type": "stream",
     "text": [
      "Accuracy: 0.66875\n"
     ]
    }
   ],
   "source": [
    "from sklearn.ensemble import RandomForestClassifier\n",
    "\n",
    "# Create a RandomForestClassifier with 100 trees\n",
    "rf = RandomForestClassifier(n_estimators=100)\n",
    "\n",
    "# Train the model on your training data (X_train, y_train)\n",
    "rf.fit(X_train, y_train)\n",
    "\n",
    "# Make predictions on the testing set (X_test)\n",
    "y_pred = rf.predict(X_test)\n",
    "\n",
    "accuracy = accuracy_score(y_test, y_pred)\n",
    "print(\"Accuracy:\", accuracy)"
   ]
  },
  {
   "cell_type": "code",
   "execution_count": 29,
   "id": "4b7f1c74-b15f-4c77-87f4-c50ce834001d",
   "metadata": {},
   "outputs": [
    {
     "name": "stdout",
     "output_type": "stream",
     "text": [
      "Accuracy: 0.5125\n"
     ]
    }
   ],
   "source": [
    "from sklearn.model_selection import GridSearchCV\n",
    "from sklearn.metrics import accuracy_score\n",
    "from sklearn.neighbors import KNeighborsClassifier\n",
    "\n",
    "# ... (your data preparation and split into X_train, X_test, y_train, y_test)\n",
    "\n",
    "# Define the hyperparameter grid for KNN\n",
    "param_grid = {\n",
    "    'n_neighbors': [3, 5, 7],\n",
    "    'metric': ['euclidean', 'manhattan', 'minkowski']\n",
    "}\n",
    "\n",
    "# Create and fit the GridSearchCV object\n",
    "grid_search = GridSearchCV(estimator=KNeighborsClassifier(), param_grid=param_grid, scoring=accuracy_score)\n",
    "grid_search.fit(X_train, y_train)\n",
    "\n",
    "# Access results\n",
    "best_model = grid_search.best_estimator_\n",
    "best_params = grid_search.best_params_\n",
    "cv_results = grid_search.cv_results_\n",
    "\n",
    "# Use the best model for prediction on the testing set\n",
    "y_pred = best_model.predict(X_test)\n",
    "\n",
    "# Evaluate performance using the chosen metric (e.g., accuracy_score)\n",
    "\n",
    "accuracy = accuracy_score(y_test, y_pred)\n",
    "print(\"Accuracy:\", accuracy)"
   ]
  },
  {
   "cell_type": "code",
   "execution_count": 30,
   "id": "6be7c9e8-430f-4a80-a146-8670dcc9a9c3",
   "metadata": {},
   "outputs": [],
   "source": [
    "test = pd.read_csv(\"C&T test dataset.csv\")"
   ]
  },
  {
   "cell_type": "code",
   "execution_count": 31,
   "id": "770f35f1-9712-451e-a80b-70e8e78291d1",
   "metadata": {},
   "outputs": [
    {
     "data": {
      "text/plain": [
       "sno                 0\n",
       "acc_info            0\n",
       "duration_month      0\n",
       "credit_history      0\n",
       "purpose             0\n",
       "savings_acc         0\n",
       "employment_st       5\n",
       "poi                 5\n",
       "personal_status     0\n",
       "gurantors           0\n",
       "resident_since      0\n",
       "property_type       0\n",
       "age                 2\n",
       "installment_type    0\n",
       "housing_type        8\n",
       "credits_no          0\n",
       "job_type            0\n",
       "liables             0\n",
       "telephone           0\n",
       "foreigner           0\n",
       "dtype: int64"
      ]
     },
     "execution_count": 31,
     "metadata": {},
     "output_type": "execute_result"
    }
   ],
   "source": [
    "test.isnull().sum()"
   ]
  },
  {
   "cell_type": "code",
   "execution_count": null,
   "id": "ae1ba0eb-d4e2-4d1d-88ef-190ad389608a",
   "metadata": {},
   "outputs": [],
   "source": []
  },
  {
   "cell_type": "code",
   "execution_count": null,
   "id": "687dee21-e384-456d-abe2-2f4fa5b754db",
   "metadata": {},
   "outputs": [],
   "source": []
  }
 ],
 "metadata": {
  "kernelspec": {
   "display_name": "Python 3 (ipykernel)",
   "language": "python",
   "name": "python3"
  },
  "language_info": {
   "codemirror_mode": {
    "name": "ipython",
    "version": 3
   },
   "file_extension": ".py",
   "mimetype": "text/x-python",
   "name": "python",
   "nbconvert_exporter": "python",
   "pygments_lexer": "ipython3",
   "version": "3.11.7"
  }
 },
 "nbformat": 4,
 "nbformat_minor": 5
}
